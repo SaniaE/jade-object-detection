{
 "cells": [
  {
   "cell_type": "code",
   "execution_count": 1,
   "id": "ebf314e9",
   "metadata": {},
   "outputs": [
    {
     "name": "stdout",
     "output_type": "stream",
     "text": [
      "Collecting opencv-python\n",
      "  Using cached opencv_python-4.10.0.84-cp37-abi3-win_amd64.whl.metadata (20 kB)\n",
      "Collecting numpy>=1.17.0 (from opencv-python)\n",
      "  Using cached numpy-1.24.4-cp38-cp38-win_amd64.whl.metadata (5.6 kB)\n",
      "Using cached opencv_python-4.10.0.84-cp37-abi3-win_amd64.whl (38.8 MB)\n",
      "Using cached numpy-1.24.4-cp38-cp38-win_amd64.whl (14.9 MB)\n",
      "Installing collected packages: numpy, opencv-python\n",
      "Successfully installed numpy-1.24.4 opencv-python-4.10.0.84\n",
      "Collecting pyqt5\n",
      "  Downloading PyQt5-5.15.11-cp38-abi3-win_amd64.whl.metadata (2.1 kB)\n",
      "Collecting lxml\n",
      "  Downloading lxml-5.3.0-cp38-cp38-win_amd64.whl.metadata (3.9 kB)\n",
      "Collecting PyQt5-sip<13,>=12.15 (from pyqt5)\n",
      "  Downloading PyQt5_sip-12.15.0-cp38-cp38-win_amd64.whl.metadata (439 bytes)\n",
      "Collecting PyQt5-Qt5<5.16.0,>=5.15.2 (from pyqt5)\n",
      "  Downloading PyQt5_Qt5-5.15.2-py3-none-win_amd64.whl.metadata (552 bytes)\n",
      "Downloading PyQt5-5.15.11-cp38-abi3-win_amd64.whl (6.9 MB)\n",
      "   ---------------------------------------- 0.0/6.9 MB ? eta -:--:--\n",
      "   ----------------------------------- ---- 6.0/6.9 MB 33.5 MB/s eta 0:00:01\n",
      "   ---------------------------------------- 6.9/6.9 MB 30.2 MB/s eta 0:00:00\n",
      "Downloading lxml-5.3.0-cp38-cp38-win_amd64.whl (3.8 MB)\n",
      "   ---------------------------------------- 0.0/3.8 MB ? eta -:--:--\n",
      "   ---------------------------------------- 3.8/3.8 MB 32.6 MB/s eta 0:00:00\n",
      "Downloading PyQt5_Qt5-5.15.2-py3-none-win_amd64.whl (50.1 MB)\n",
      "   ---------------------------------------- 0.0/50.1 MB ? eta -:--:--\n",
      "   ----- ---------------------------------- 6.6/50.1 MB 31.0 MB/s eta 0:00:02\n",
      "   ---------- ----------------------------- 13.6/50.1 MB 32.9 MB/s eta 0:00:02\n",
      "   ---------------- ----------------------- 21.2/50.1 MB 34.4 MB/s eta 0:00:01\n",
      "   ----------------------- ---------------- 29.9/50.1 MB 36.5 MB/s eta 0:00:01\n",
      "   ------------------------------- -------- 39.3/50.1 MB 37.9 MB/s eta 0:00:01\n",
      "   ------------------------------------ --- 45.6/50.1 MB 38.2 MB/s eta 0:00:01\n",
      "   ---------------------------------------- 50.1/50.1 MB 36.7 MB/s eta 0:00:00\n",
      "Downloading PyQt5_sip-12.15.0-cp38-cp38-win_amd64.whl (59 kB)\n",
      "Installing collected packages: PyQt5-Qt5, PyQt5-sip, lxml, pyqt5\n",
      "Successfully installed PyQt5-Qt5-5.15.2 PyQt5-sip-12.15.0 lxml-5.3.0 pyqt5-5.15.11\n"
     ]
    }
   ],
   "source": [
    "!pip install opencv-python \n",
    "!pip install --upgrade pyqt5 lxml"
   ]
  },
  {
   "cell_type": "code",
   "execution_count": 1,
   "id": "ba788162",
   "metadata": {},
   "outputs": [],
   "source": [
    "import os "
   ]
  },
  {
   "cell_type": "code",
   "execution_count": 2,
   "id": "a9deecd9",
   "metadata": {},
   "outputs": [],
   "source": [
    "DATA_PATHS = {\n",
    "    \"dataset_dir\": \"annotations/dataset/\",\n",
    "    \"annotator_tool\": \"annotations/labelimg/\"\n",
    "}\n",
    "\n",
    "classes = ['Boats', 'Bottles', 'Bottlecaps']"
   ]
  },
  {
   "cell_type": "code",
   "execution_count": 3,
   "id": "0d2b5505",
   "metadata": {},
   "outputs": [
    {
     "name": "stderr",
     "output_type": "stream",
     "text": [
      "fatal: destination path 'annotations/labelimg' already exists and is not an empty directory.\n"
     ]
    }
   ],
   "source": [
    "!git clone https://github.com/tzutalin/labelImg {DATA_PATHS['annotator_tool']}\n",
    "!cd {DATA_PATHS['annotator_tool']} && pyrcc5 -o libs/resources.py resources.qrc"
   ]
  },
  {
   "cell_type": "code",
   "execution_count": 4,
   "id": "e019766e",
   "metadata": {},
   "outputs": [
    {
     "name": "stderr",
     "output_type": "stream",
     "text": [
      "Warning: QT_DEVICE_PIXEL_RATIO is deprecated. Instead use:\n",
      "   QT_AUTO_SCREEN_SCALE_FACTOR to enable platform plugin controlled per-screen factors.\n",
      "   QT_SCREEN_SCALE_FACTORS to set per-screen DPI.\n",
      "   QT_SCALE_FACTOR to set the application global scale factor.\n"
     ]
    }
   ],
   "source": [
    "!cd {DATA_PATHS['annotator_tool']} && python labelImg.py"
   ]
  },
  {
   "cell_type": "code",
   "execution_count": null,
   "id": "908c7916",
   "metadata": {},
   "outputs": [],
   "source": []
  }
 ],
 "metadata": {
  "kernelspec": {
   "display_name": "jade",
   "language": "python",
   "name": "jade"
  },
  "language_info": {
   "codemirror_mode": {
    "name": "ipython",
    "version": 3
   },
   "file_extension": ".py",
   "mimetype": "text/x-python",
   "name": "python",
   "nbconvert_exporter": "python",
   "pygments_lexer": "ipython3",
   "version": "3.8.8"
  }
 },
 "nbformat": 4,
 "nbformat_minor": 5
}
